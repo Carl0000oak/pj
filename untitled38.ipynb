{
  "nbformat": 4,
  "nbformat_minor": 0,
  "metadata": {
    "colab": {
      "provenance": [],
      "authorship_tag": "ABX9TyPKaYNbQI4+mmxw78km5TP5",
      "include_colab_link": true
    },
    "kernelspec": {
      "name": "python3",
      "display_name": "Python 3"
    },
    "language_info": {
      "name": "python"
    }
  },
  "cells": [
    {
      "cell_type": "markdown",
      "metadata": {
        "id": "view-in-github",
        "colab_type": "text"
      },
      "source": [
        "<a href=\"https://colab.research.google.com/github/Carl0000oak/pj/blob/main/untitled38.ipynb\" target=\"_parent\"><img src=\"https://colab.research.google.com/assets/colab-badge.svg\" alt=\"Open In Colab\"/></a>"
      ]
    },
    {
      "cell_type": "code",
      "execution_count": null,
      "metadata": {
        "id": "k2o8tGEmQGjG"
      },
      "outputs": [],
      "source": [
        "import pandas as pd\n",
        "import numpy as np\n",
        "import matplotlib.pyplot as plt\n",
        "from scipy.stats import gumbel_r\n",
        "\n",
        "# Carregue os dados do arquivo Excel\n",
        "df = pd.read_excel('arq.xlsx')\n",
        "\n",
        "# Se você tem duas colunas \"max_power\" e \"max_power2\"\n",
        "dados1 = df['max_power'].values\n",
        "dados2 = df['max_power2'].values\n",
        "\n",
        "# Remova linhas com valores não finitos em ambas as colunas\n",
        "df = df.dropna(subset=['max_power', 'max_power2'])\n",
        "\n",
        "\n",
        "# Ajuste a distribuição Gumbel aos dados máximos\n",
        "params_max1 = gumbel_r.fit(dados1)\n",
        "params_max2 = gumbel_r.fit(dados2)\n",
        "\n",
        "# Gere dados de período de retorno de 1 a 100 anos\n",
        "periodo_retorno = np.arange(1, 101)\n",
        "\n",
        "# Calcule os quantis da distribuição Gumbel para os dados máximos\n",
        "quantis_max1 = gumbel_r.ppf(1 - 1/(periodo_retorno), *params_max1)\n",
        "quantis_max2 = gumbel_r.ppf(1 - 1/(periodo_retorno), *params_max2)\n",
        "\n",
        "# Crie um gráfico de tempo de retorno para ambos os conjuntos de dados\n",
        "plt.figure(figsize=(10, 6))\n",
        "plt.plot(periodo_retorno, quantis_max1, label='Max Power 1', marker='o', linestyle='-')\n",
        "plt.plot(periodo_retorno, quantis_max2, label='Max Power 2', marker='o', linestyle='-')\n",
        "plt.xlabel('Período de Retorno (Anos)')\n",
        "plt.ylabel('Max Power')\n",
        "plt.title('Gráfico de Tempo de Retorno - Distribuição Gumbel (Máximo)')\n",
        "plt.grid()\n",
        "plt.legend()\n",
        "plt.show()\n"
      ]
    }
  ]
}